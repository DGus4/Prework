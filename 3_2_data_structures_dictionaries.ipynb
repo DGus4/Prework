{
  "cells": [
    {
      "cell_type": "markdown",
      "metadata": {
        "id": "view-in-github",
        "colab_type": "text"
      },
      "source": [
        "<a href=\"https://colab.research.google.com/github/DGus4/Prework/blob/main/3_2_data_structures_dictionaries.ipynb\" target=\"_parent\"><img src=\"https://colab.research.google.com/assets/colab-badge.svg\" alt=\"Open In Colab\"/></a>"
      ]
    },
    {
      "cell_type": "markdown",
      "source": [
        "## Data structures continued"
      ],
      "metadata": {
        "id": "gxLSVeojQ5kh"
      }
    },
    {
      "cell_type": "markdown",
      "source": [
        "## Dictionaries "
      ],
      "metadata": {
        "id": "eVa60XXDQ5kk"
      }
    },
    {
      "cell_type": "markdown",
      "source": [
        "Dictionaries are used to store data in key value pairs. You can think about the key in a dictionary as a key to a vault where the values are stored.   \n",
        "\n",
        "You can access the element/elements stored in the value by using the particular **key**.   \n",
        "\n",
        "**Curly braces** are used to define a dictionary. \n",
        "\n",
        "Different **key-value pairs are separated by commas**.\n",
        "\n",
        "<!-- We store the data behind the scenes in a hash map. This means that we use the key to generate a unique index (called a hash) and store the value in the location marked by that index. This makes retrieval very fast. -->"
      ],
      "metadata": {
        "id": "e_RAIFhZQ5kk"
      }
    },
    {
      "cell_type": "code",
      "execution_count": null,
      "source": [
        "contacts = {'John': '312-555-1234', 'Paul': '312-555-3123', 'George': '312-555-3333', 'Ringo': '312-555-2222'}"
      ],
      "outputs": [],
      "metadata": {
        "id": "I-PmNKglQ5kl"
      }
    },
    {
      "cell_type": "code",
      "execution_count": null,
      "source": [
        "type(contacts)"
      ],
      "outputs": [
        {
          "output_type": "execute_result",
          "data": {
            "text/plain": [
              "dict"
            ]
          },
          "metadata": {},
          "execution_count": 2
        }
      ],
      "metadata": {
        "id": "T3xY4OkxQ5kl",
        "outputId": "dde2b494-06c7-4526-d0dd-0786c16e65f5"
      }
    },
    {
      "cell_type": "markdown",
      "source": [
        "Here we have defined a dictionary and we saved it in a variable named `contacts`.  \n",
        "\n",
        "A key-value pair is defined using a colon **`:`** - `key : value`.\n",
        "\n",
        "Different key value pairs here are: \n",
        "- \"John\" : \"312-555-1234\"\n",
        "- \"Paul\" : \"312-555-3123\" \n",
        "- \"George\" : \"312-555-3333\" \n",
        "- \"Ringo\" : \"312-555-2222\"\n",
        "\n",
        "All the **keys** in a dictionary **are always unique**, the *values can be repeated*."
      ],
      "metadata": {
        "id": "Rxg_HtjrQ5km"
      }
    },
    {
      "cell_type": "markdown",
      "source": [
        "### Accessing values using the keys"
      ],
      "metadata": {
        "id": "84yUS1JaQ5km"
      }
    },
    {
      "cell_type": "code",
      "execution_count": null,
      "source": [
        "contacts['John']  # This is very similar to lists except that here we are using keys as indexes"
      ],
      "outputs": [
        {
          "output_type": "execute_result",
          "data": {
            "text/plain": [
              "'312-555-1234'"
            ]
          },
          "metadata": {},
          "execution_count": 3
        }
      ],
      "metadata": {
        "id": "_JTrcntcQ5kn",
        "outputId": "c0da40c6-ff3b-4cad-d827-444788f771e4"
      }
    },
    {
      "cell_type": "code",
      "execution_count": null,
      "source": [
        "contacts['Paul']"
      ],
      "outputs": [
        {
          "output_type": "execute_result",
          "data": {
            "text/plain": [
              "'312-555-3123'"
            ]
          },
          "metadata": {},
          "execution_count": 4
        }
      ],
      "metadata": {
        "id": "_HaEMOmwQ5kn",
        "outputId": "1939bfa3-aa20-4331-c7ed-1c2b6ae9d42d"
      }
    },
    {
      "cell_type": "markdown",
      "source": [
        "**Note:** The keys are case sensitive. For eg. if you use the following code, it will produce an error as shown:"
      ],
      "metadata": {
        "id": "b4DGbnYeQ5ko"
      }
    },
    {
      "cell_type": "code",
      "execution_count": null,
      "source": [
        "contacts['PAUL']"
      ],
      "outputs": [
        {
          "output_type": "error",
          "ename": "KeyError",
          "evalue": "'PAUL'",
          "traceback": [
            "\u001b[0;31m---------------------------------------------------------------------------\u001b[0m",
            "\u001b[0;31mKeyError\u001b[0m                                  Traceback (most recent call last)",
            "\u001b[0;32m<ipython-input-5-72754c72acff>\u001b[0m in \u001b[0;36m<module>\u001b[0;34m\u001b[0m\n\u001b[0;32m----> 1\u001b[0;31m \u001b[0mcontacts\u001b[0m\u001b[0;34m[\u001b[0m\u001b[0;34m'PAUL'\u001b[0m\u001b[0;34m]\u001b[0m\u001b[0;34m\u001b[0m\u001b[0;34m\u001b[0m\u001b[0m\n\u001b[0m",
            "\u001b[0;31mKeyError\u001b[0m: 'PAUL'"
          ]
        }
      ],
      "metadata": {
        "id": "z4eWHsvJQ5ko",
        "outputId": "acdb7d5c-db63-4d09-adaa-f6a751d6e648"
      }
    },
    {
      "cell_type": "markdown",
      "source": [
        "Check which keys are there in the dictionary using **`.keys()`** method."
      ],
      "metadata": {
        "id": "R645JtFNQ5ko"
      }
    },
    {
      "cell_type": "code",
      "execution_count": null,
      "source": [
        "contacts.keys()"
      ],
      "outputs": [
        {
          "output_type": "execute_result",
          "data": {
            "text/plain": [
              "dict_keys(['John', 'Paul', 'George', 'Ringo'])"
            ]
          },
          "metadata": {},
          "execution_count": 7
        }
      ],
      "metadata": {
        "id": "ALQkXRVGQ5kp",
        "outputId": "4ff4ebfb-79ae-4c77-ee7a-956e60333e8d"
      }
    },
    {
      "cell_type": "markdown",
      "source": [
        "Similarly we can also check the values in the dictionary using **`.values()`** mehod."
      ],
      "metadata": {
        "id": "Nke3HN85Q5kp"
      }
    },
    {
      "cell_type": "code",
      "execution_count": null,
      "source": [
        "contacts.values()  # But this directly does not tell us to which keys are these values associated "
      ],
      "outputs": [
        {
          "output_type": "execute_result",
          "data": {
            "text/plain": [
              "dict_values(['312-555-1234', '312-555-3123', '312-555-3333', '312-555-2222'])"
            ]
          },
          "metadata": {},
          "execution_count": 8
        }
      ],
      "metadata": {
        "id": "kNTCSKj5Q5kp",
        "outputId": "4d0400fb-e5d6-4a99-c170-a3c06ba32df6"
      }
    },
    {
      "cell_type": "markdown",
      "source": [
        "If you closely observe, the values in the above result are stored in square brackets. Hence, we can say that \n",
        "`contacts.values()` returns the output as a list."
      ],
      "metadata": {
        "id": "Sc69l7VSQ5kp"
      }
    },
    {
      "cell_type": "markdown",
      "source": [
        "### Add new elements to a dictionary"
      ],
      "metadata": {
        "id": "dpXc-BKRQ5kp"
      }
    },
    {
      "cell_type": "markdown",
      "source": [
        "To add new key-value pair in a dictionary, we use a very simple syntax.\n",
        "\n",
        "You have to give the name of the key in square brackets and then assign value to it:\n",
        "\n",
        "`<Name of dictionary>[<key>] = value`"
      ],
      "metadata": {
        "id": "JjIusbPUQ5kq"
      }
    },
    {
      "cell_type": "code",
      "execution_count": null,
      "source": [
        "contacts['Himanshu'] = '480-111-2222'  \n",
        "# It is important that the key has to be unique "
      ],
      "outputs": [],
      "metadata": {
        "id": "lFpyyWnAQ5kq"
      }
    },
    {
      "cell_type": "markdown",
      "source": [
        "In the previous example, the keys and values stored in the dictionary were only strings. But we can have any\n",
        "kind of data type for the keys and values."
      ],
      "metadata": {
        "id": "RzTP0kPaQ5kq"
      }
    },
    {
      "cell_type": "code",
      "execution_count": null,
      "source": [
        "student_names = {1: 'John', 2: 'Smith', 3: 'Matt', 4: 'Jimmy', 5: 'Sue'}\n",
        "student_names[1]"
      ],
      "outputs": [
        {
          "output_type": "execute_result",
          "data": {
            "text/plain": [
              "'John'"
            ]
          },
          "metadata": {},
          "execution_count": 10
        }
      ],
      "metadata": {
        "id": "GcmbWtpFQ5kq",
        "outputId": "bcfa6fcd-1ec1-4e64-bbde-b35bd89de398"
      }
    },
    {
      "cell_type": "code",
      "execution_count": null,
      "source": [
        "student_names[2]"
      ],
      "outputs": [
        {
          "output_type": "execute_result",
          "data": {
            "text/plain": [
              "'Smith'"
            ]
          },
          "metadata": {},
          "execution_count": 11
        }
      ],
      "metadata": {
        "id": "VDAM5I-CQ5kr",
        "outputId": "1854b5d6-e541-45c2-bf66-0359d44588da"
      }
    },
    {
      "cell_type": "markdown",
      "source": [
        "The main idea here is that the values are identified in a dictionary using the keys. "
      ],
      "metadata": {
        "id": "oIr8e08aQ5kr"
      }
    },
    {
      "cell_type": "markdown",
      "source": [
        "Python is really powerful in the sense that it provides user the flexibility to create more complicated data structures. \n",
        "\n",
        "Values inside a dictionary can be lists or dictionaries itself (we call them *nested* dictionaries). We will look at some of those examples."
      ],
      "metadata": {
        "id": "O8LuDj37Q5kr"
      }
    },
    {
      "cell_type": "code",
      "execution_count": null,
      "source": [
        "student_data = {\n",
        "    'Name': 'Himanshu', \n",
        "    'E-mail': 'himanshuagg@gmail.com', \n",
        "    'Age': 28, \n",
        "    'subjects': ['math', 'science', 'history', 'geography'] \n",
        "}"
      ],
      "outputs": [],
      "metadata": {
        "id": "qft8ohRCQ5kr"
      }
    },
    {
      "cell_type": "code",
      "execution_count": null,
      "source": [
        "student_data.keys()"
      ],
      "outputs": [
        {
          "output_type": "execute_result",
          "data": {
            "text/plain": [
              "dict_keys(['Name', 'E-mail', 'Age', 'subjects'])"
            ]
          },
          "metadata": {},
          "execution_count": 14
        }
      ],
      "metadata": {
        "id": "iV0IPzdnQ5kr",
        "outputId": "58d43913-50c3-4813-fabe-523cbcd9997b"
      }
    },
    {
      "cell_type": "code",
      "execution_count": null,
      "source": [
        "# We will again emphasize here that the keys are case sensitive "
      ],
      "outputs": [],
      "metadata": {
        "id": "-9srWScfQ5ks"
      }
    },
    {
      "cell_type": "code",
      "execution_count": null,
      "source": [
        "student_data['Name']"
      ],
      "outputs": [
        {
          "output_type": "execute_result",
          "data": {
            "text/plain": [
              "'Himanshu'"
            ]
          },
          "metadata": {},
          "execution_count": 16
        }
      ],
      "metadata": {
        "id": "ljhQwNlfQ5ks",
        "outputId": "c7da1fdf-1d02-483b-9dc8-a67e2289cb85"
      }
    },
    {
      "cell_type": "code",
      "execution_count": null,
      "source": [
        "student_data['E-mail']"
      ],
      "outputs": [
        {
          "output_type": "execute_result",
          "data": {
            "text/plain": [
              "'himanshuagg@gmail.com'"
            ]
          },
          "metadata": {},
          "execution_count": 17
        }
      ],
      "metadata": {
        "id": "kzQgH9ODQ5ks",
        "outputId": "225a6b11-8c54-4827-d97a-9cb40306d653"
      }
    },
    {
      "cell_type": "code",
      "execution_count": null,
      "source": [
        "student_data['Age']"
      ],
      "outputs": [
        {
          "output_type": "execute_result",
          "data": {
            "text/plain": [
              "28"
            ]
          },
          "metadata": {},
          "execution_count": 18
        }
      ],
      "metadata": {
        "id": "l7Nu-RCmQ5ks",
        "outputId": "d1b62f36-fff1-4b2d-f1e4-5e9569199278"
      }
    },
    {
      "cell_type": "code",
      "execution_count": null,
      "source": [
        "student_data['subjects']"
      ],
      "outputs": [
        {
          "output_type": "execute_result",
          "data": {
            "text/plain": [
              "['math', 'science', 'history', 'geography']"
            ]
          },
          "metadata": {},
          "execution_count": 19
        }
      ],
      "metadata": {
        "id": "ITo2XBfvQ5ks",
        "outputId": "73d293ca-2df6-4c60-acc8-b83e88c2844c"
      }
    },
    {
      "cell_type": "markdown",
      "source": [
        "**Note**: Value associated with the key 'subjects' is a list. The key uniquely identifies the value linked with the key, in this case a list. "
      ],
      "metadata": {
        "id": "OAXZcSGZQ5kt"
      }
    },
    {
      "cell_type": "markdown",
      "source": [
        "According to this, if we want to access 'science', we need first to access the `subjects` key in the dictionary. Then, as the `value` is a list, we need to use the corresponding element of the list."
      ],
      "metadata": {
        "id": "nvmEtrHuQ5kt"
      }
    },
    {
      "cell_type": "code",
      "execution_count": null,
      "source": [
        "student_data['subjects'][1]"
      ],
      "outputs": [
        {
          "output_type": "execute_result",
          "data": {
            "text/plain": [
              "'science'"
            ]
          },
          "metadata": {},
          "execution_count": 20
        }
      ],
      "metadata": {
        "id": "_iaBxXUiQ5kt",
        "outputId": "ce8d583d-1525-41b4-e028-a93930608b36"
      }
    },
    {
      "cell_type": "markdown",
      "source": [
        "### Exercises"
      ],
      "metadata": {
        "id": "iYw-9UDXQ5kt"
      }
    },
    {
      "cell_type": "markdown",
      "source": [
        "1. Use the dictionary given below. This is a dictionary that shows the frequency of the words in a text paragraph. The keys are the words, and the values are its frequency.\n"
      ],
      "metadata": {
        "id": "aCQcB0RyQ5ku"
      }
    },
    {
      "cell_type": "code",
      "execution_count": null,
      "source": [
        "word_freq = {'love': 25, 'conversation': 1, 'every': 6, \"we're\": 1, 'plate': 1, 'sour': 1, 'jukebox': 1, 'now': 11, 'taxi': 1, 'fast': 1, 'bag': 1, 'man': 1, 'push': 3, 'baby': 14, 'going': 1, 'you': 16, \"don't\": 2, 'one': 1, 'mind': 2, 'backseat': 1, 'friends': 1, 'then': 3, 'know': 2}"
      ],
      "outputs": [],
      "metadata": {
        "id": "AiXdqI_bQ5ku"
      }
    },
    {
      "cell_type": "markdown",
      "source": [
        "Answer the following questions:   \n",
        "\n",
        "- How many *key-value* pairs are in this dictionary?\n",
        "- What *keys* are present in this dictionary? \n",
        "- What is the frequency of following words in the dictionary: \n",
        "    - 'friends'\n",
        "    - 'taxi' \n",
        "    - 'jukebox'\n",
        "- Is the word `begin` present in the dictionary?\n",
        "- Add the following words and their frequencies to the dictionary:\n",
        "        - 'begin': 1\n",
        "        - 'start': 2\n",
        "        - 'over': 1\n",
        "        - 'body': 17\n",
        "- Use the following code to convert the result from `word_freq.keys()` to a list: `list(word_freq.keys())`.\n",
        "  - Store the results of the above code in a variable called `word`.\n",
        "  - What is the first word in the dictionary? What is the frequency of that word?\n",
        "  - What is the last word in the dictionary? What is the frequency of that word?"
      ],
      "metadata": {
        "id": "Y8VleI6pQ5ku"
      }
    },
    {
      "cell_type": "code",
      "execution_count": null,
      "source": [
        "# your answer here"
      ],
      "outputs": [],
      "metadata": {
        "id": "ci4vqBz-Q5ku"
      }
    },
    {
      "cell_type": "markdown",
      "source": [
        "2. Can a dictionary have two key-value pairs with the same key?"
      ],
      "metadata": {
        "id": "joK_VxT0Q5ku"
      }
    },
    {
      "cell_type": "code",
      "execution_count": null,
      "source": [
        "# your answer here"
      ],
      "outputs": [],
      "metadata": {
        "id": "L1C0YoBbQ5ku"
      }
    },
    {
      "cell_type": "markdown",
      "source": [
        "3. Can a dictionary have two key-value pairs with the same value but different keys?"
      ],
      "metadata": {
        "id": "9KxCG8vHQ5ku"
      }
    },
    {
      "cell_type": "code",
      "execution_count": null,
      "source": [
        "# your answer here"
      ],
      "outputs": [],
      "metadata": {
        "id": "hZr5FzUhQ5ku"
      }
    },
    {
      "cell_type": "markdown",
      "source": [
        "# Additional Content: Nested Dictionaries "
      ],
      "metadata": {
        "id": "YifS46CnQ5ku"
      }
    },
    {
      "cell_type": "markdown",
      "source": [
        "Students will not be assesed on this. "
      ],
      "metadata": {
        "id": "n85QADH4Q5ku"
      }
    },
    {
      "cell_type": "code",
      "execution_count": null,
      "source": [
        "contacts = {1: {'Name' : 'John' , 'Phone':'312-555-1234'},\n",
        "            2: {'Name' : 'Paul' , 'Phone':'312-555-3123'},\n",
        "            3: {'Name' : 'George' , 'Phone':'312-555-3333'},\n",
        "            4: {'Name' : 'Ringo' , 'Phone':'312-555-2222'}}"
      ],
      "outputs": [],
      "metadata": {
        "id": "BxnKsWoNQ5kv"
      }
    },
    {
      "cell_type": "code",
      "execution_count": null,
      "source": [
        "# In this case we have a dictionary as the values associated with the keys here. \n",
        "type(contacts)"
      ],
      "outputs": [
        {
          "output_type": "execute_result",
          "data": {
            "text/plain": [
              "dict"
            ]
          },
          "metadata": {},
          "execution_count": 26
        }
      ],
      "metadata": {
        "id": "DlVkpzcpQ5kv",
        "outputId": "528bc4be-6cfe-4067-db3a-c4212db48345"
      }
    },
    {
      "cell_type": "code",
      "execution_count": null,
      "source": [
        "contacts"
      ],
      "outputs": [
        {
          "output_type": "execute_result",
          "data": {
            "text/plain": [
              "{1: {'Name': 'John', 'Phone': '312-555-1234'},\n",
              " 2: {'Name': 'Paul', 'Phone': '312-555-3123'},\n",
              " 3: {'Name': 'George', 'Phone': '312-555-3333'},\n",
              " 4: {'Name': 'Ringo', 'Phone': '312-555-2222'}}"
            ]
          },
          "metadata": {},
          "execution_count": 27
        }
      ],
      "metadata": {
        "id": "5d0xHiBfQ5kv",
        "outputId": "dc0f7a67-1722-482d-f74e-98290f0556b4"
      }
    },
    {
      "cell_type": "code",
      "execution_count": null,
      "source": [
        "contacts.keys()"
      ],
      "outputs": [
        {
          "output_type": "execute_result",
          "data": {
            "text/plain": [
              "dict_keys([1, 2, 3, 4])"
            ]
          },
          "metadata": {},
          "execution_count": 28
        }
      ],
      "metadata": {
        "id": "fGYwQ9x_Q5kv",
        "outputId": "d2a17e35-dcc3-47c1-af67-453cbf699fa4"
      }
    },
    {
      "cell_type": "code",
      "execution_count": null,
      "source": [
        "contacts.values()"
      ],
      "outputs": [
        {
          "output_type": "execute_result",
          "data": {
            "text/plain": [
              "dict_values([{'Name': 'John', 'Phone': '312-555-1234'}, {'Name': 'Paul', 'Phone': '312-555-3123'}, {'Name': 'George', 'Phone': '312-555-3333'}, {'Name': 'Ringo', 'Phone': '312-555-2222'}])"
            ]
          },
          "metadata": {},
          "execution_count": 29
        }
      ],
      "metadata": {
        "id": "bYYi2Vu2Q5kv",
        "outputId": "2ddc9c1e-9483-4e27-9d19-fb8d44100d84"
      }
    },
    {
      "cell_type": "code",
      "execution_count": null,
      "source": [
        "print(contacts[1])"
      ],
      "outputs": [
        {
          "output_type": "stream",
          "name": "stdout",
          "text": [
            "{'Name': 'John', 'Phone': '312-555-1234'}\n"
          ]
        }
      ],
      "metadata": {
        "id": "Ac4moahGQ5kv",
        "outputId": "796a5d1c-8df3-4d40-b743-06e6b24205e0"
      }
    },
    {
      "cell_type": "markdown",
      "source": [
        "As you can see, the `keys` of a dictionary can be either:\n",
        "\n",
        "- strings \n",
        "- numbers\n",
        "\n",
        "In this above example, the dictionary `keys` which are numbers. In this particular case, the `values` are also dictionaries."
      ],
      "metadata": {
        "id": "K4JByjjaQ5kv"
      }
    },
    {
      "cell_type": "code",
      "execution_count": null,
      "source": [
        "contacts[1].keys()"
      ],
      "outputs": [
        {
          "output_type": "execute_result",
          "data": {
            "text/plain": [
              "dict_keys(['Name', 'Phone'])"
            ]
          },
          "metadata": {},
          "execution_count": 31
        }
      ],
      "metadata": {
        "id": "9lvmBgTgQ5kw",
        "outputId": "aff1ec03-e755-4ac9-f648-552673cc17e9"
      }
    },
    {
      "cell_type": "code",
      "execution_count": null,
      "source": [
        "contacts[1].values()"
      ],
      "outputs": [
        {
          "output_type": "execute_result",
          "data": {
            "text/plain": [
              "dict_values(['John', '312-555-1234'])"
            ]
          },
          "metadata": {},
          "execution_count": 32
        }
      ],
      "metadata": {
        "id": "by291EtdQ5kw",
        "outputId": "a20430a6-1bbb-4a7b-d0bf-41fb09254fbc"
      }
    },
    {
      "cell_type": "code",
      "execution_count": null,
      "source": [
        "contacts[1]['Name']"
      ],
      "outputs": [
        {
          "output_type": "execute_result",
          "data": {
            "text/plain": [
              "'John'"
            ]
          },
          "metadata": {},
          "execution_count": 33
        }
      ],
      "metadata": {
        "id": "yx7UIj_OQ5kw",
        "outputId": "42d0359d-db24-4db1-bb85-f2ce399d1e5c"
      }
    },
    {
      "cell_type": "code",
      "execution_count": null,
      "source": [
        "contacts[1]['Phone']"
      ],
      "outputs": [
        {
          "output_type": "execute_result",
          "data": {
            "text/plain": [
              "'312-555-1234'"
            ]
          },
          "metadata": {},
          "execution_count": 34
        }
      ],
      "metadata": {
        "id": "xls8KFVrQ5kw",
        "outputId": "1509fa6c-b333-4cac-d560-543df2d05d81"
      }
    },
    {
      "cell_type": "markdown",
      "source": [
        "You can also have lists in which each element is a dictionary. Therefore the amount of possible combinations and levels of nesting is endless."
      ],
      "metadata": {
        "id": "Cu0WTLjEQ5kw"
      }
    },
    {
      "cell_type": "code",
      "execution_count": null,
      "source": [
        "my_data = [{'Mike': [25,23000],'Jane': [38, 40000],'Bill': [45,35000]},{'Developers': ['Mike','Bill']},{'HR': ['Jane']}]\n",
        "my_data"
      ],
      "outputs": [
        {
          "output_type": "execute_result",
          "data": {
            "text/plain": [
              "[{'Mike': [25, 23000], 'Jane': [38, 40000], 'Bill': [45, 35000]},\n",
              " {'Developers': ['Mike', 'Bill']},\n",
              " {'HR': ['Jane']}]"
            ]
          },
          "metadata": {},
          "execution_count": 35
        }
      ],
      "metadata": {
        "id": "74g8HQBnQ5kw",
        "outputId": "a4277214-cf19-4254-dcc3-23fef76cb4ec"
      }
    },
    {
      "cell_type": "markdown",
      "source": [
        "This is an example of a very nested list with three elements, each of them being a dictionary. In such cases, it is very important to know what you have in your hands. What type of variable is `my_data`?"
      ],
      "metadata": {
        "id": "WaucMKXfQ5kw"
      }
    },
    {
      "cell_type": "code",
      "execution_count": null,
      "source": [
        "type(my_data)"
      ],
      "outputs": [
        {
          "output_type": "execute_result",
          "data": {
            "text/plain": [
              "list"
            ]
          },
          "metadata": {},
          "execution_count": 36
        }
      ],
      "metadata": {
        "id": "-kPLxlHlQ5kw",
        "outputId": "a3254c2d-7d9b-4c07-e7dc-4bb4e82ad166"
      }
    },
    {
      "cell_type": "markdown",
      "source": [
        "Then let's access the first element of the list. As this is a **list**, we need to access by **index**."
      ],
      "metadata": {
        "id": "9bbUBBs8Q5kx"
      }
    },
    {
      "cell_type": "code",
      "execution_count": null,
      "source": [
        "my_data[0]"
      ],
      "outputs": [
        {
          "output_type": "execute_result",
          "data": {
            "text/plain": [
              "{'Mike': [25, 23000], 'Jane': [38, 40000], 'Bill': [45, 35000]}"
            ]
          },
          "metadata": {},
          "execution_count": 37
        }
      ],
      "metadata": {
        "id": "DpH0AcX9Q5kx",
        "outputId": "29210aa5-d001-405d-c71b-77feb105b309"
      }
    },
    {
      "cell_type": "markdown",
      "source": [
        "This element is a dictionary as it can be clearly seen. In case of doubt we can use the function `type()`."
      ],
      "metadata": {
        "id": "YJkNubMwQ5kx"
      }
    },
    {
      "cell_type": "code",
      "execution_count": null,
      "source": [
        "type(my_data[0])"
      ],
      "outputs": [
        {
          "output_type": "execute_result",
          "data": {
            "text/plain": [
              "dict"
            ]
          },
          "metadata": {},
          "execution_count": 38
        }
      ],
      "metadata": {
        "id": "I_VuOSzOQ5kx",
        "outputId": "6fb2d446-ec2a-460e-96d1-9274b6eb51fc"
      }
    },
    {
      "cell_type": "markdown",
      "source": [
        "Then let's access the data of 'Jane'. As this element is a **dictionary** we need to access by **key**."
      ],
      "metadata": {
        "id": "VH4aJIMfQ5kx"
      }
    },
    {
      "cell_type": "code",
      "execution_count": null,
      "source": [
        "my_data[0]['Jane']"
      ],
      "outputs": [
        {
          "output_type": "execute_result",
          "data": {
            "text/plain": [
              "[38, 40000]"
            ]
          },
          "metadata": {},
          "execution_count": 39
        }
      ],
      "metadata": {
        "id": "idH0QEoqQ5kx",
        "outputId": "be0019f7-c9cb-4065-9ec2-044540fa77b1"
      }
    },
    {
      "cell_type": "markdown",
      "source": [
        "In return, we are getting another **list**. To access the last element of this **list**, we need to access it by **index**."
      ],
      "metadata": {
        "id": "ZupgS6bnQ5kx"
      }
    },
    {
      "cell_type": "code",
      "execution_count": null,
      "source": [
        "my_data[0]['Jane'][1]"
      ],
      "outputs": [
        {
          "output_type": "execute_result",
          "data": {
            "text/plain": [
              "40000"
            ]
          },
          "metadata": {},
          "execution_count": 40
        }
      ],
      "metadata": {
        "id": "C8VXldPyQ5kx",
        "outputId": "65e97c9d-1b66-4e4a-cba7-8568cc67a52e"
      }
    },
    {
      "cell_type": "markdown",
      "source": [
        "## Summary"
      ],
      "metadata": {
        "id": "9lfgPYaKQ5ky"
      }
    },
    {
      "cell_type": "markdown",
      "source": [
        "It is always crucial to know what kind of variable you have in your hands because this determines how to retrieve the data. \n",
        "\n",
        "- lists -> accessed by **index**\n",
        "- dictionaries -> accessed by **key** (misleadingly, the key can be a number but usually is a string)\n",
        "\n",
        "Lists are easily identified because they start and end with square brackets: `[ ]`\n",
        "\n",
        "In contrast, dictionaries start and end with curly brackets: `{ }`."
      ],
      "metadata": {
        "id": "XIoSUCu8Q5ky"
      }
    }
  ],
  "metadata": {
    "kernelspec": {
      "display_name": "Python 3",
      "language": "python",
      "name": "python3"
    },
    "language_info": {
      "codemirror_mode": {
        "name": "ipython",
        "version": 3
      },
      "file_extension": ".py",
      "mimetype": "text/x-python",
      "name": "python",
      "nbconvert_exporter": "python",
      "pygments_lexer": "ipython3",
      "version": "3.8.8"
    },
    "colab": {
      "name": "3.2_data_structures_dictionaries.ipynb",
      "provenance": [],
      "include_colab_link": true
    }
  },
  "nbformat": 4,
  "nbformat_minor": 0
}