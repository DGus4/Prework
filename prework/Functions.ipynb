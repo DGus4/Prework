{
  "cells": [
    {
      "cell_type": "markdown",
      "metadata": {
        "colab_type": "text",
        "id": "view-in-github"
      },
      "source": [
        "<a href=\"https://colab.research.google.com/github/DGus4/Prework/blob/main/6_functions_intro_v2.ipynb\" target=\"_parent\"><img src=\"https://colab.research.google.com/assets/colab-badge.svg\" alt=\"Open In Colab\"/></a>"
      ]
    },
    {
      "cell_type": "code",
      "execution_count": null,
      "metadata": {
        "id": "1wPzYHyyN1al"
      },
      "outputs": [],
      "source": [
        "# Intro to functions"
      ]
    },
    {
      "cell_type": "markdown",
      "metadata": {
        "id": "KWYWRAgfN1an"
      },
      "source": [
        "A function is a block of organized, reusable code that is used to perform a single, related action. "
      ]
    },
    {
      "cell_type": "markdown",
      "metadata": {
        "id": "FhARN4ZlN1ao"
      },
      "source": [
        "### Function definition"
      ]
    },
    {
      "cell_type": "markdown",
      "metadata": {
        "id": "WPrDTZd3N1ap"
      },
      "source": [
        "You can define functions to provide the required functionality. Here are simple rules to define a function in Python.\n",
        "\n",
        "- Function block begins with the keyword `def` followed by the `function name` and parentheses `()`.\n",
        "- In some cases, you will see that these parentheses are empty when you define and invoke (execute) the function, but sometimes you will have to add parameters inside them when you define the function. The value you will be passing in these parentheses when you invoke function we call an argument.\n",
        "Here is an extra [resource from W2Schools](https://www.w3schools.com/python/gloss_python_function_arguments.asp#:~:text=The%20terms%20parameter%20and%20argument,function%20when%20it%20is%20called.) that can help you understand this terminology better.\n",
        "- The code block within every function starts with a colon (:) and is mandatory.\n",
        "- The first statement of a function can be an optional statement - the documentation string of the function or docstring.\n",
        "- The statement `return [expression]` exits a function, optionally passing back an expression to the caller. A return statement with no arguments is the same as return None."
      ]
    },
    {
      "cell_type": "code",
      "execution_count": null,
      "metadata": {
        "id": "GRYz4BapN1ap"
      },
      "outputs": [],
      "source": [
        "#Syntax\n",
        "\n",
        "def functionname( parameters ):\n",
        "   \"function_docstring\"\n",
        "   #function_code here *indented*\n",
        "   #return [expression]"
      ]
    },
    {
      "cell_type": "markdown",
      "metadata": {
        "id": "1mEfvcJ0N1aq"
      },
      "source": [
        "A function is a block of code which only runs when it is called.\n",
        "\n",
        "A function can return data as a result."
      ]
    },
    {
      "cell_type": "code",
      "execution_count": null,
      "metadata": {
        "id": "tZKJ3b98N1aq"
      },
      "outputs": [],
      "source": [
        "#The function1 needs a parameter (\"x\") and it is going to multiply 5 * x\n",
        "\n",
        "def function1(x):\n",
        "    return 5 * x"
      ]
    },
    {
      "cell_type": "code",
      "execution_count": null,
      "metadata": {
        "id": "5C2rUxf7N1aq"
      },
      "outputs": [],
      "source": [
        "#The variable \"a\" is going to save the result for this function\n",
        "# This is possible ONLY because the function definition contains a RETURN\n",
        "a = function1(2)"
      ]
    },
    {
      "cell_type": "code",
      "execution_count": null,
      "metadata": {
        "id": "pruGCY9gN1ar",
        "outputId": "ba0f99fa-62d3-41dd-d235-6bb3cdfd034f"
      },
      "outputs": [
        {
          "name": "stdout",
          "output_type": "stream",
          "text": [
            "10\n"
          ]
        }
      ],
      "source": [
        "#Use print to see the result (example = 5 * 2, 2 is x value)\n",
        "print(a)"
      ]
    },
    {
      "cell_type": "code",
      "execution_count": null,
      "metadata": {
        "id": "NDnC_4IIN1as"
      },
      "outputs": [],
      "source": [
        "b = function1(1)"
      ]
    },
    {
      "cell_type": "code",
      "execution_count": null,
      "metadata": {
        "id": "lboGkrS4N1as",
        "outputId": "743743d2-bfcd-4dbf-f71b-0fce61ac12b9"
      },
      "outputs": [
        {
          "name": "stdout",
          "output_type": "stream",
          "text": [
            "5\n"
          ]
        }
      ],
      "source": [
        "print(b)"
      ]
    },
    {
      "cell_type": "code",
      "execution_count": null,
      "metadata": {
        "id": "vMEtZ-_MN1as",
        "outputId": "670380fc-5a63-451a-938f-fb10611ae1ca"
      },
      "outputs": [
        {
          "name": "stdout",
          "output_type": "stream",
          "text": [
            "15\n"
          ]
        }
      ],
      "source": [
        "print(a + b)"
      ]
    },
    {
      "cell_type": "code",
      "execution_count": null,
      "metadata": {
        "id": "c5ep1wzDN1at"
      },
      "outputs": [],
      "source": [
        "#Also it can be two variables or mores in one function \n",
        "#The result is x + y \n",
        "def function2(x, y):\n",
        "    return x + y"
      ]
    },
    {
      "cell_type": "code",
      "execution_count": null,
      "metadata": {
        "id": "Urv3mq3nN1au",
        "outputId": "3c7946ca-3d48-4817-9a04-7485c1600b96"
      },
      "outputs": [
        {
          "name": "stdout",
          "output_type": "stream",
          "text": [
            "5\n"
          ]
        }
      ],
      "source": [
        "#The variable c saves the value\n",
        "c = function2(2, 3)\n",
        "print(c)"
      ]
    },
    {
      "cell_type": "markdown",
      "metadata": {
        "id": "Z0Y7QTg7N1au"
      },
      "source": [
        "# Exercise "
      ]
    },
    {
      "cell_type": "markdown",
      "metadata": {
        "id": "nAK6Z55QN1au"
      },
      "source": [
        "\n",
        "Create a function called \"generation_calculator\" to help determine the generation you belong to according to your birth year. Follow the below information:\n",
        "\n",
        "```\n",
        "+-----------------+---------------------+\n",
        "|  birth_year     |      generation     |\n",
        "+-----------------+---------------------+\n",
        "|     < 1949      |  silent generation  |\n",
        "+-----------------+---------------------+\n",
        "|     < 1969      |     baby boomer     |\n",
        "+-----------------+---------------------+\n",
        "|     < 1981      |     X generation    | \n",
        "+-----------------+---------------------+\n",
        "|     < 1994      |      millennial     | \n",
        "+-----------------+---------------------+\n",
        "|     > 1994      |    Z generation     | \n",
        "+-----------------+---------------------+\n",
        "```\n",
        "\n",
        "Let's add some \"fake\" users whose data we will be using to validate if the function gives us the correct and expected result."
      ]
    },
    {
      "cell_type": "code",
      "execution_count": null,
      "metadata": {
        "id": "i9cfSW7HN1au"
      },
      "outputs": [],
      "source": [
        "# Generation What?\n",
        "\n",
        "name1 = \"Jonh\"\n",
        "birth_year1 = 1989\n",
        "\n",
        "name2 = \"Mari\"\n",
        "birth_year2 = 1995\n",
        "\n",
        "name3 = \"Mich\"\n",
        "birth_year3 = 1960"
      ]
    },
    {
      "cell_type": "markdown",
      "metadata": {
        "id": "Hce8FP1TN1av"
      },
      "source": [
        "1. Define the function generation calculator & add both parameters to represent both variables we are going to need in this function.\n",
        "2. Determine generation as a birth year (we need to know the year to be able to calculate)\n",
        "3. Print the results\n",
        "4. Write conditionals for each generation. For example, if you were born before 1949 you would be a \"silent generation\".\n",
        "5. Define variables for each result\n",
        "6. Show results"
      ]
    },
    {
      "cell_type": "code",
      "execution_count": null,
      "metadata": {
        "id": "yNbKlBB-N1av"
      },
      "outputs": [],
      "source": []
    },
    {
      "cell_type": "code",
      "execution_count": 57,
      "metadata": {
        "id": "L371-3x1N1av"
      },
      "outputs": [
        {
          "name": "stdout",
          "output_type": "stream",
          "text": [
            "jnkfsnlksfd  eres de la generacion : Silent generation\n",
            "None\n"
          ]
        }
      ],
      "source": [
        "# Your solution here\n",
        "def generation_calculator (name, bird_year):\n",
        "     bird_year = int()\n",
        "     if bird_year< 1949 :\n",
        "      return print( name, ' eres de la generacion : Silent generation')\n",
        "      \n",
        "     elif bird_year < 1969 :\n",
        "        return print ( name, ' eres de la generacion : Baby boomer')\n",
        "    \n",
        "     elif bird_year <1981 :\n",
        "        return print (name, ' eres de la generacion : X generation')\n",
        "        \n",
        "     elif bird_year <1994 :\n",
        "        return print (name, ' eres de la generacion : Millenial ')\n",
        "        \n",
        "     else :\n",
        "        return print(name, ' eres de la generacion : Z generation') \n",
        "name = input ('Ecribe tu nombre')\n",
        "bird_year = input ('Escribe tu ano de nacimiento')\n",
        "print (generation_calculator(name, bird_year))"
      ]
    },
    {
      "cell_type": "markdown",
      "metadata": {
        "id": "bPAAt23MN1av"
      },
      "source": [
        "### Additional resources "
      ]
    },
    {
      "cell_type": "markdown",
      "metadata": {
        "id": "0RiMyBQxN1av"
      },
      "source": [
        "- [https://www.tutorialspoint.com/python/python_functions.htm](https://www.tutorialspoint.com/python/python_functions.htm)"
      ]
    }
  ],
  "metadata": {
    "colab": {
      "include_colab_link": true,
      "name": "6_functions_intro_v2.ipynb",
      "provenance": []
    },
    "kernelspec": {
      "display_name": "Python 3",
      "language": "python",
      "name": "python3"
    },
    "language_info": {
      "codemirror_mode": {
        "name": "ipython",
        "version": 3
      },
      "file_extension": ".py",
      "mimetype": "text/x-python",
      "name": "python",
      "nbconvert_exporter": "python",
      "pygments_lexer": "ipython3",
      "version": "3.7.8"
    }
  },
  "nbformat": 4,
  "nbformat_minor": 0
}
